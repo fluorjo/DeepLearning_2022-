{
  "nbformat": 4,
  "nbformat_minor": 0,
  "metadata": {
    "colab": {
      "name": "03_옵티마이저_사용예.ipynb",
      "provenance": [],
      "collapsed_sections": [],
      "machine_shape": "hm"
    },
    "kernelspec": {
      "name": "python3",
      "display_name": "Python 3"
    },
    "language_info": {
      "name": "python"
    },
    "accelerator": "GPU"
  },
  "cells": [
    {
      "cell_type": "markdown",
      "source": [
        "# 신경망 모델에서 옵티마이저 사용법\n",
        "### 이진분류:유방암 예측 사례"
      ],
      "metadata": {
        "id": "RJT0f5niW54C"
      }
    },
    {
      "cell_type": "code",
      "execution_count": 1,
      "metadata": {
        "id": "PFH1CTrNW0I-"
      },
      "outputs": [],
      "source": [
        "import numpy as np\n",
        "import matplotlib.pyplot as plt\n",
        "from sklearn.datasets import load_breast_cancer\n",
        "from sklearn.preprocessing import StandardScaler\n",
        "from sklearn.model_selection import train_test_split"
      ]
    },
    {
      "cell_type": "code",
      "source": [
        "cancer=load_breast_cancer()\n",
        "cancer_std=StandardScaler().fit_transform(cancer.data)\n",
        "X_train,X_test,y_train,y_test=train_test_split(\n",
        "    cancer_std,cancer.target,stratify=cancer.target,\n",
        "    test_size=0.2, random_state=2022\n",
        ")"
      ],
      "metadata": {
        "id": "KzNCXG_CXDLy"
      },
      "execution_count": 2,
      "outputs": []
    },
    {
      "cell_type": "markdown",
      "source": [
        "### 1.Adam optimizer"
      ],
      "metadata": {
        "id": "PA5jlIqOX3GN"
      }
    },
    {
      "cell_type": "code",
      "source": [
        "from tensorflow.keras.models import Sequential\n",
        "from tensorflow.keras.layers import Dense"
      ],
      "metadata": {
        "id": "FtVYsF69Xwnk"
      },
      "execution_count": 3,
      "outputs": []
    },
    {
      "cell_type": "code",
      "source": [
        "model = Sequential([\n",
        "    Dense(100, input_dim=30, activation='relu'),\n",
        "    Dense(24,activation='relu'),\n",
        "    Dense(1,activation='sigmoid')                    \n",
        "])"
      ],
      "metadata": {
        "id": "ubqmtj8-YGN9"
      },
      "execution_count": 4,
      "outputs": []
    },
    {
      "cell_type": "markdown",
      "source": [
        "#### Adam 하이퍼 파라메터\n",
        "- learning_rate: 0보다 크거나 같은 float 값. 학습률.\n",
        "- beta_1: 0보다 크고 1보다 작은 float 값. 일반적으로 1에 가깝게 설정됩니다.\n",
        "- beta_2: 0보다 크고 1보다 작은 float 값. 일반적으로 1에 가깝게 설정됩니다.\n",
        "- epsilon: 0보다 크거나 같은 float형 fuzz factor. None인 경우 K.epsilon()이 사용됩니다.\n",
        "- decay: 0보다 크거나 같은 float 값. 업데이트마다 적용되는 학습률의 감소율입니다.\n",
        "- amsgrad: 불리언. Adam의 변형인 AMSGrad의 적용 여부를 설정합니다\n"
      ],
      "metadata": {
        "id": "zic70S_2YbYc"
      }
    },
    {
      "cell_type": "code",
      "source": [
        "from tensorflow.keras.optimizers import Adam\n",
        "adam=Adam(learning_rate=0.001, beta_1=0.9, beta_2=0.999,\n",
        "          epsilon=None, decay=0.0, amsgrad=False)"
      ],
      "metadata": {
        "id": "aDSADb4yYl4H"
      },
      "execution_count": 5,
      "outputs": []
    },
    {
      "cell_type": "code",
      "source": [
        "model.compile(optimizer=adam,loss='binary_crossentropy',metrics=['accuracy'])"
      ],
      "metadata": {
        "id": "AJgC-U-2ZiEW"
      },
      "execution_count": 6,
      "outputs": []
    },
    {
      "cell_type": "code",
      "source": [
        "hist=model.fit(X_train,y_train,validation_split=0.2,\n",
        "               epochs=100, batch_size=100, verbose=0)"
      ],
      "metadata": {
        "id": "r8FoixaRabHZ"
      },
      "execution_count": 7,
      "outputs": []
    },
    {
      "cell_type": "code",
      "source": [
        "model.evaluate(X_test,y_test)"
      ],
      "metadata": {
        "colab": {
          "base_uri": "https://localhost:8080/"
        },
        "id": "pI3jIa_BaqlB",
        "outputId": "813059c8-0891-4148-cae1-8dad51bb0e22"
      },
      "execution_count": 8,
      "outputs": [
        {
          "output_type": "stream",
          "name": "stdout",
          "text": [
            "4/4 [==============================] - 0s 4ms/step - loss: 0.0962 - accuracy: 0.9737\n"
          ]
        },
        {
          "output_type": "execute_result",
          "data": {
            "text/plain": [
              "[0.09615538269281387, 0.9736841917037964]"
            ]
          },
          "metadata": {},
          "execution_count": 8
        }
      ]
    },
    {
      "cell_type": "code",
      "source": [
        "y_acc=hist.history['accuracy']\n",
        "y_vloss=hist.history['val_loss']\n",
        "xs=np.arange(1,len(y_acc)+1)"
      ],
      "metadata": {
        "id": "e6_vX-9db38M"
      },
      "execution_count": 9,
      "outputs": []
    },
    {
      "cell_type": "markdown",
      "source": [
        "- 2.RMSprop\n",
        "\n",
        "#### RMSprop 하이퍼 파라메터\n",
        "- lr: 0보다 크거나 같은 float 값. 학습률.\n",
        "- rho: 0보다 크거나 같은 float 값.\n",
        "- epsilon: 0보다 크거나 같은 float형 fuzz factor. None인 경우 K.epsilon()이 사용됩니다.\n",
        "- decay: 0보다 크거나 같은 float 값. 업데이트마다 적용되는 학습률의 감소율입니다.\n"
      ],
      "metadata": {
        "id": "aQLqxm9Wb4Cu"
      }
    },
    {
      "cell_type": "code",
      "source": [
        "model2 = Sequential([\n",
        "    Dense(100, input_dim=30, activation='relu'),\n",
        "    Dense(24,activation='relu'),\n",
        "    Dense(1,activation='sigmoid')                    \n",
        "])"
      ],
      "metadata": {
        "id": "LpB6HiKha4kI"
      },
      "execution_count": 10,
      "outputs": []
    },
    {
      "cell_type": "code",
      "source": [
        "from tensorflow.keras.optimizers import RMSprop\n",
        "rmsp = RMSprop(learning_rate=0.001,rho=0.9,epsilon=None,decay=0.0)"
      ],
      "metadata": {
        "id": "JN679detb--h"
      },
      "execution_count": 11,
      "outputs": []
    },
    {
      "cell_type": "code",
      "source": [
        "model2.compile(rmsp,'binary_crossentropy',['accuracy'])"
      ],
      "metadata": {
        "id": "xCA7CYf9fSrT"
      },
      "execution_count": 12,
      "outputs": []
    },
    {
      "cell_type": "code",
      "source": [
        "hist2=model2.fit(X_train,y_train,validation_split=0.2,\n",
        "               epochs=100, batch_size=100, verbose=2)"
      ],
      "metadata": {
        "colab": {
          "base_uri": "https://localhost:8080/"
        },
        "id": "t-lk4HSbfbNp",
        "outputId": "de718055-87d1-43ad-abaa-fa2045c9e906"
      },
      "execution_count": 13,
      "outputs": [
        {
          "output_type": "stream",
          "name": "stdout",
          "text": [
            "Epoch 1/100\n",
            "4/4 - 1s - loss: 0.5593 - accuracy: 0.7253 - val_loss: 0.3738 - val_accuracy: 0.9011 - 1s/epoch - 281ms/step\n",
            "Epoch 2/100\n",
            "4/4 - 0s - loss: 0.3457 - accuracy: 0.9066 - val_loss: 0.2993 - val_accuracy: 0.9121 - 38ms/epoch - 10ms/step\n",
            "Epoch 3/100\n",
            "4/4 - 0s - loss: 0.2751 - accuracy: 0.9203 - val_loss: 0.2549 - val_accuracy: 0.9231 - 36ms/epoch - 9ms/step\n",
            "Epoch 4/100\n",
            "4/4 - 0s - loss: 0.2301 - accuracy: 0.9286 - val_loss: 0.2207 - val_accuracy: 0.9341 - 37ms/epoch - 9ms/step\n",
            "Epoch 5/100\n",
            "4/4 - 0s - loss: 0.1982 - accuracy: 0.9368 - val_loss: 0.1948 - val_accuracy: 0.9451 - 40ms/epoch - 10ms/step\n",
            "Epoch 6/100\n",
            "4/4 - 0s - loss: 0.1722 - accuracy: 0.9451 - val_loss: 0.1752 - val_accuracy: 0.9451 - 37ms/epoch - 9ms/step\n",
            "Epoch 7/100\n",
            "4/4 - 0s - loss: 0.1513 - accuracy: 0.9533 - val_loss: 0.1603 - val_accuracy: 0.9670 - 37ms/epoch - 9ms/step\n",
            "Epoch 8/100\n",
            "4/4 - 0s - loss: 0.1347 - accuracy: 0.9643 - val_loss: 0.1493 - val_accuracy: 0.9670 - 36ms/epoch - 9ms/step\n",
            "Epoch 9/100\n",
            "4/4 - 0s - loss: 0.1211 - accuracy: 0.9698 - val_loss: 0.1403 - val_accuracy: 0.9670 - 36ms/epoch - 9ms/step\n",
            "Epoch 10/100\n",
            "4/4 - 0s - loss: 0.1104 - accuracy: 0.9725 - val_loss: 0.1328 - val_accuracy: 0.9670 - 34ms/epoch - 8ms/step\n",
            "Epoch 11/100\n",
            "4/4 - 0s - loss: 0.1004 - accuracy: 0.9725 - val_loss: 0.1300 - val_accuracy: 0.9451 - 35ms/epoch - 9ms/step\n",
            "Epoch 12/100\n",
            "4/4 - 0s - loss: 0.0915 - accuracy: 0.9780 - val_loss: 0.1242 - val_accuracy: 0.9560 - 35ms/epoch - 9ms/step\n",
            "Epoch 13/100\n",
            "4/4 - 0s - loss: 0.0850 - accuracy: 0.9808 - val_loss: 0.1227 - val_accuracy: 0.9560 - 37ms/epoch - 9ms/step\n",
            "Epoch 14/100\n",
            "4/4 - 0s - loss: 0.0783 - accuracy: 0.9835 - val_loss: 0.1182 - val_accuracy: 0.9670 - 36ms/epoch - 9ms/step\n",
            "Epoch 15/100\n",
            "4/4 - 0s - loss: 0.0735 - accuracy: 0.9780 - val_loss: 0.1176 - val_accuracy: 0.9670 - 38ms/epoch - 10ms/step\n",
            "Epoch 16/100\n",
            "4/4 - 0s - loss: 0.0685 - accuracy: 0.9808 - val_loss: 0.1157 - val_accuracy: 0.9670 - 36ms/epoch - 9ms/step\n",
            "Epoch 17/100\n",
            "4/4 - 0s - loss: 0.0632 - accuracy: 0.9808 - val_loss: 0.1158 - val_accuracy: 0.9560 - 38ms/epoch - 9ms/step\n",
            "Epoch 18/100\n",
            "4/4 - 0s - loss: 0.0599 - accuracy: 0.9863 - val_loss: 0.1163 - val_accuracy: 0.9560 - 38ms/epoch - 9ms/step\n",
            "Epoch 19/100\n",
            "4/4 - 0s - loss: 0.0563 - accuracy: 0.9863 - val_loss: 0.1133 - val_accuracy: 0.9670 - 36ms/epoch - 9ms/step\n",
            "Epoch 20/100\n",
            "4/4 - 0s - loss: 0.0532 - accuracy: 0.9808 - val_loss: 0.1169 - val_accuracy: 0.9560 - 36ms/epoch - 9ms/step\n",
            "Epoch 21/100\n",
            "4/4 - 0s - loss: 0.0497 - accuracy: 0.9863 - val_loss: 0.1167 - val_accuracy: 0.9560 - 36ms/epoch - 9ms/step\n",
            "Epoch 22/100\n",
            "4/4 - 0s - loss: 0.0469 - accuracy: 0.9863 - val_loss: 0.1139 - val_accuracy: 0.9560 - 38ms/epoch - 9ms/step\n",
            "Epoch 23/100\n",
            "4/4 - 0s - loss: 0.0438 - accuracy: 0.9863 - val_loss: 0.1121 - val_accuracy: 0.9560 - 37ms/epoch - 9ms/step\n",
            "Epoch 24/100\n",
            "4/4 - 0s - loss: 0.0422 - accuracy: 0.9863 - val_loss: 0.1147 - val_accuracy: 0.9560 - 36ms/epoch - 9ms/step\n",
            "Epoch 25/100\n",
            "4/4 - 0s - loss: 0.0388 - accuracy: 0.9863 - val_loss: 0.1123 - val_accuracy: 0.9560 - 36ms/epoch - 9ms/step\n",
            "Epoch 26/100\n",
            "4/4 - 0s - loss: 0.0387 - accuracy: 0.9863 - val_loss: 0.1120 - val_accuracy: 0.9560 - 36ms/epoch - 9ms/step\n",
            "Epoch 27/100\n",
            "4/4 - 0s - loss: 0.0352 - accuracy: 0.9890 - val_loss: 0.1165 - val_accuracy: 0.9560 - 38ms/epoch - 10ms/step\n",
            "Epoch 28/100\n",
            "4/4 - 0s - loss: 0.0331 - accuracy: 0.9863 - val_loss: 0.1141 - val_accuracy: 0.9560 - 36ms/epoch - 9ms/step\n",
            "Epoch 29/100\n",
            "4/4 - 0s - loss: 0.0308 - accuracy: 0.9890 - val_loss: 0.1127 - val_accuracy: 0.9560 - 36ms/epoch - 9ms/step\n",
            "Epoch 30/100\n",
            "4/4 - 0s - loss: 0.0287 - accuracy: 0.9918 - val_loss: 0.1151 - val_accuracy: 0.9560 - 37ms/epoch - 9ms/step\n",
            "Epoch 31/100\n",
            "4/4 - 0s - loss: 0.0273 - accuracy: 0.9918 - val_loss: 0.1148 - val_accuracy: 0.9560 - 38ms/epoch - 9ms/step\n",
            "Epoch 32/100\n",
            "4/4 - 0s - loss: 0.0255 - accuracy: 0.9918 - val_loss: 0.1172 - val_accuracy: 0.9560 - 37ms/epoch - 9ms/step\n",
            "Epoch 33/100\n",
            "4/4 - 0s - loss: 0.0235 - accuracy: 0.9918 - val_loss: 0.1094 - val_accuracy: 0.9670 - 35ms/epoch - 9ms/step\n",
            "Epoch 34/100\n",
            "4/4 - 0s - loss: 0.0228 - accuracy: 0.9918 - val_loss: 0.1113 - val_accuracy: 0.9560 - 36ms/epoch - 9ms/step\n",
            "Epoch 35/100\n",
            "4/4 - 0s - loss: 0.0206 - accuracy: 0.9945 - val_loss: 0.1108 - val_accuracy: 0.9560 - 36ms/epoch - 9ms/step\n",
            "Epoch 36/100\n",
            "4/4 - 0s - loss: 0.0190 - accuracy: 0.9973 - val_loss: 0.1104 - val_accuracy: 0.9560 - 37ms/epoch - 9ms/step\n",
            "Epoch 37/100\n",
            "4/4 - 0s - loss: 0.0183 - accuracy: 0.9945 - val_loss: 0.1123 - val_accuracy: 0.9560 - 38ms/epoch - 10ms/step\n",
            "Epoch 38/100\n",
            "4/4 - 0s - loss: 0.0169 - accuracy: 0.9973 - val_loss: 0.1143 - val_accuracy: 0.9560 - 38ms/epoch - 10ms/step\n",
            "Epoch 39/100\n",
            "4/4 - 0s - loss: 0.0159 - accuracy: 0.9945 - val_loss: 0.1170 - val_accuracy: 0.9560 - 37ms/epoch - 9ms/step\n",
            "Epoch 40/100\n",
            "4/4 - 0s - loss: 0.0146 - accuracy: 0.9973 - val_loss: 0.1159 - val_accuracy: 0.9560 - 38ms/epoch - 9ms/step\n",
            "Epoch 41/100\n",
            "4/4 - 0s - loss: 0.0134 - accuracy: 1.0000 - val_loss: 0.1126 - val_accuracy: 0.9560 - 34ms/epoch - 8ms/step\n",
            "Epoch 42/100\n",
            "4/4 - 0s - loss: 0.0129 - accuracy: 0.9973 - val_loss: 0.1186 - val_accuracy: 0.9560 - 36ms/epoch - 9ms/step\n",
            "Epoch 43/100\n",
            "4/4 - 0s - loss: 0.0123 - accuracy: 1.0000 - val_loss: 0.1168 - val_accuracy: 0.9560 - 36ms/epoch - 9ms/step\n",
            "Epoch 44/100\n",
            "4/4 - 0s - loss: 0.0106 - accuracy: 1.0000 - val_loss: 0.1119 - val_accuracy: 0.9670 - 39ms/epoch - 10ms/step\n",
            "Epoch 45/100\n",
            "4/4 - 0s - loss: 0.0100 - accuracy: 1.0000 - val_loss: 0.1139 - val_accuracy: 0.9560 - 37ms/epoch - 9ms/step\n",
            "Epoch 46/100\n",
            "4/4 - 0s - loss: 0.0093 - accuracy: 1.0000 - val_loss: 0.1139 - val_accuracy: 0.9560 - 36ms/epoch - 9ms/step\n",
            "Epoch 47/100\n",
            "4/4 - 0s - loss: 0.0088 - accuracy: 1.0000 - val_loss: 0.1167 - val_accuracy: 0.9560 - 37ms/epoch - 9ms/step\n",
            "Epoch 48/100\n",
            "4/4 - 0s - loss: 0.0082 - accuracy: 1.0000 - val_loss: 0.1125 - val_accuracy: 0.9670 - 38ms/epoch - 10ms/step\n",
            "Epoch 49/100\n",
            "4/4 - 0s - loss: 0.0076 - accuracy: 1.0000 - val_loss: 0.1150 - val_accuracy: 0.9670 - 37ms/epoch - 9ms/step\n",
            "Epoch 50/100\n",
            "4/4 - 0s - loss: 0.0071 - accuracy: 1.0000 - val_loss: 0.1173 - val_accuracy: 0.9560 - 37ms/epoch - 9ms/step\n",
            "Epoch 51/100\n",
            "4/4 - 0s - loss: 0.0060 - accuracy: 1.0000 - val_loss: 0.1176 - val_accuracy: 0.9670 - 36ms/epoch - 9ms/step\n",
            "Epoch 52/100\n",
            "4/4 - 0s - loss: 0.0057 - accuracy: 1.0000 - val_loss: 0.1125 - val_accuracy: 0.9780 - 39ms/epoch - 10ms/step\n",
            "Epoch 53/100\n",
            "4/4 - 0s - loss: 0.0054 - accuracy: 1.0000 - val_loss: 0.1166 - val_accuracy: 0.9670 - 35ms/epoch - 9ms/step\n",
            "Epoch 54/100\n",
            "4/4 - 0s - loss: 0.0047 - accuracy: 1.0000 - val_loss: 0.1250 - val_accuracy: 0.9560 - 38ms/epoch - 9ms/step\n",
            "Epoch 55/100\n",
            "4/4 - 0s - loss: 0.0044 - accuracy: 1.0000 - val_loss: 0.1251 - val_accuracy: 0.9670 - 39ms/epoch - 10ms/step\n",
            "Epoch 56/100\n",
            "4/4 - 0s - loss: 0.0041 - accuracy: 1.0000 - val_loss: 0.1252 - val_accuracy: 0.9560 - 38ms/epoch - 10ms/step\n",
            "Epoch 57/100\n",
            "4/4 - 0s - loss: 0.0035 - accuracy: 1.0000 - val_loss: 0.1238 - val_accuracy: 0.9560 - 38ms/epoch - 9ms/step\n",
            "Epoch 58/100\n",
            "4/4 - 0s - loss: 0.0032 - accuracy: 1.0000 - val_loss: 0.1202 - val_accuracy: 0.9670 - 37ms/epoch - 9ms/step\n",
            "Epoch 59/100\n",
            "4/4 - 0s - loss: 0.0029 - accuracy: 1.0000 - val_loss: 0.1205 - val_accuracy: 0.9780 - 37ms/epoch - 9ms/step\n",
            "Epoch 60/100\n",
            "4/4 - 0s - loss: 0.0025 - accuracy: 1.0000 - val_loss: 0.1230 - val_accuracy: 0.9670 - 40ms/epoch - 10ms/step\n",
            "Epoch 61/100\n",
            "4/4 - 0s - loss: 0.0025 - accuracy: 1.0000 - val_loss: 0.1234 - val_accuracy: 0.9670 - 39ms/epoch - 10ms/step\n",
            "Epoch 62/100\n",
            "4/4 - 0s - loss: 0.0021 - accuracy: 1.0000 - val_loss: 0.1265 - val_accuracy: 0.9670 - 42ms/epoch - 10ms/step\n",
            "Epoch 63/100\n",
            "4/4 - 0s - loss: 0.0020 - accuracy: 1.0000 - val_loss: 0.1307 - val_accuracy: 0.9560 - 40ms/epoch - 10ms/step\n",
            "Epoch 64/100\n",
            "4/4 - 0s - loss: 0.0017 - accuracy: 1.0000 - val_loss: 0.1352 - val_accuracy: 0.9560 - 36ms/epoch - 9ms/step\n",
            "Epoch 65/100\n",
            "4/4 - 0s - loss: 0.0015 - accuracy: 1.0000 - val_loss: 0.1292 - val_accuracy: 0.9670 - 36ms/epoch - 9ms/step\n",
            "Epoch 66/100\n",
            "4/4 - 0s - loss: 0.0013 - accuracy: 1.0000 - val_loss: 0.1318 - val_accuracy: 0.9670 - 36ms/epoch - 9ms/step\n",
            "Epoch 67/100\n",
            "4/4 - 0s - loss: 0.0012 - accuracy: 1.0000 - val_loss: 0.1415 - val_accuracy: 0.9560 - 37ms/epoch - 9ms/step\n",
            "Epoch 68/100\n",
            "4/4 - 0s - loss: 0.0011 - accuracy: 1.0000 - val_loss: 0.1353 - val_accuracy: 0.9560 - 35ms/epoch - 9ms/step\n",
            "Epoch 69/100\n",
            "4/4 - 0s - loss: 9.5555e-04 - accuracy: 1.0000 - val_loss: 0.1366 - val_accuracy: 0.9670 - 37ms/epoch - 9ms/step\n",
            "Epoch 70/100\n",
            "4/4 - 0s - loss: 9.3620e-04 - accuracy: 1.0000 - val_loss: 0.1370 - val_accuracy: 0.9670 - 37ms/epoch - 9ms/step\n",
            "Epoch 71/100\n",
            "4/4 - 0s - loss: 7.6278e-04 - accuracy: 1.0000 - val_loss: 0.1452 - val_accuracy: 0.9560 - 38ms/epoch - 9ms/step\n",
            "Epoch 72/100\n",
            "4/4 - 0s - loss: 7.5366e-04 - accuracy: 1.0000 - val_loss: 0.1483 - val_accuracy: 0.9560 - 36ms/epoch - 9ms/step\n",
            "Epoch 73/100\n",
            "4/4 - 0s - loss: 6.3881e-04 - accuracy: 1.0000 - val_loss: 0.1457 - val_accuracy: 0.9560 - 37ms/epoch - 9ms/step\n",
            "Epoch 74/100\n",
            "4/4 - 0s - loss: 5.2617e-04 - accuracy: 1.0000 - val_loss: 0.1444 - val_accuracy: 0.9670 - 37ms/epoch - 9ms/step\n",
            "Epoch 75/100\n",
            "4/4 - 0s - loss: 4.7737e-04 - accuracy: 1.0000 - val_loss: 0.1492 - val_accuracy: 0.9560 - 36ms/epoch - 9ms/step\n",
            "Epoch 76/100\n",
            "4/4 - 0s - loss: 4.0588e-04 - accuracy: 1.0000 - val_loss: 0.1478 - val_accuracy: 0.9670 - 37ms/epoch - 9ms/step\n",
            "Epoch 77/100\n",
            "4/4 - 0s - loss: 3.8980e-04 - accuracy: 1.0000 - val_loss: 0.1494 - val_accuracy: 0.9560 - 36ms/epoch - 9ms/step\n",
            "Epoch 78/100\n",
            "4/4 - 0s - loss: 3.4514e-04 - accuracy: 1.0000 - val_loss: 0.1549 - val_accuracy: 0.9560 - 37ms/epoch - 9ms/step\n",
            "Epoch 79/100\n",
            "4/4 - 0s - loss: 3.2725e-04 - accuracy: 1.0000 - val_loss: 0.1620 - val_accuracy: 0.9560 - 36ms/epoch - 9ms/step\n",
            "Epoch 80/100\n",
            "4/4 - 0s - loss: 2.9689e-04 - accuracy: 1.0000 - val_loss: 0.1557 - val_accuracy: 0.9670 - 38ms/epoch - 9ms/step\n",
            "Epoch 81/100\n",
            "4/4 - 0s - loss: 2.4509e-04 - accuracy: 1.0000 - val_loss: 0.1594 - val_accuracy: 0.9670 - 36ms/epoch - 9ms/step\n",
            "Epoch 82/100\n",
            "4/4 - 0s - loss: 1.9638e-04 - accuracy: 1.0000 - val_loss: 0.1551 - val_accuracy: 0.9670 - 36ms/epoch - 9ms/step\n",
            "Epoch 83/100\n",
            "4/4 - 0s - loss: 1.7565e-04 - accuracy: 1.0000 - val_loss: 0.1633 - val_accuracy: 0.9670 - 35ms/epoch - 9ms/step\n",
            "Epoch 84/100\n",
            "4/4 - 0s - loss: 1.6190e-04 - accuracy: 1.0000 - val_loss: 0.1699 - val_accuracy: 0.9670 - 36ms/epoch - 9ms/step\n",
            "Epoch 85/100\n",
            "4/4 - 0s - loss: 1.6781e-04 - accuracy: 1.0000 - val_loss: 0.1698 - val_accuracy: 0.9670 - 37ms/epoch - 9ms/step\n",
            "Epoch 86/100\n",
            "4/4 - 0s - loss: 1.3663e-04 - accuracy: 1.0000 - val_loss: 0.1656 - val_accuracy: 0.9670 - 37ms/epoch - 9ms/step\n",
            "Epoch 87/100\n",
            "4/4 - 0s - loss: 1.0908e-04 - accuracy: 1.0000 - val_loss: 0.1689 - val_accuracy: 0.9670 - 37ms/epoch - 9ms/step\n",
            "Epoch 88/100\n",
            "4/4 - 0s - loss: 1.1412e-04 - accuracy: 1.0000 - val_loss: 0.1735 - val_accuracy: 0.9560 - 42ms/epoch - 10ms/step\n",
            "Epoch 89/100\n",
            "4/4 - 0s - loss: 8.6851e-05 - accuracy: 1.0000 - val_loss: 0.1719 - val_accuracy: 0.9670 - 37ms/epoch - 9ms/step\n",
            "Epoch 90/100\n",
            "4/4 - 0s - loss: 8.3804e-05 - accuracy: 1.0000 - val_loss: 0.1769 - val_accuracy: 0.9670 - 37ms/epoch - 9ms/step\n",
            "Epoch 91/100\n",
            "4/4 - 0s - loss: 6.4232e-05 - accuracy: 1.0000 - val_loss: 0.1801 - val_accuracy: 0.9670 - 37ms/epoch - 9ms/step\n",
            "Epoch 92/100\n",
            "4/4 - 0s - loss: 6.0461e-05 - accuracy: 1.0000 - val_loss: 0.1889 - val_accuracy: 0.9560 - 36ms/epoch - 9ms/step\n",
            "Epoch 93/100\n",
            "4/4 - 0s - loss: 5.3781e-05 - accuracy: 1.0000 - val_loss: 0.1919 - val_accuracy: 0.9670 - 35ms/epoch - 9ms/step\n",
            "Epoch 94/100\n",
            "4/4 - 0s - loss: 4.7711e-05 - accuracy: 1.0000 - val_loss: 0.1907 - val_accuracy: 0.9670 - 41ms/epoch - 10ms/step\n",
            "Epoch 95/100\n",
            "4/4 - 0s - loss: 4.4946e-05 - accuracy: 1.0000 - val_loss: 0.1875 - val_accuracy: 0.9670 - 38ms/epoch - 9ms/step\n",
            "Epoch 96/100\n",
            "4/4 - 0s - loss: 3.8922e-05 - accuracy: 1.0000 - val_loss: 0.1881 - val_accuracy: 0.9670 - 38ms/epoch - 9ms/step\n",
            "Epoch 97/100\n",
            "4/4 - 0s - loss: 2.9565e-05 - accuracy: 1.0000 - val_loss: 0.1867 - val_accuracy: 0.9670 - 36ms/epoch - 9ms/step\n",
            "Epoch 98/100\n",
            "4/4 - 0s - loss: 2.7809e-05 - accuracy: 1.0000 - val_loss: 0.1993 - val_accuracy: 0.9670 - 37ms/epoch - 9ms/step\n",
            "Epoch 99/100\n",
            "4/4 - 0s - loss: 2.7215e-05 - accuracy: 1.0000 - val_loss: 0.1931 - val_accuracy: 0.9670 - 36ms/epoch - 9ms/step\n",
            "Epoch 100/100\n",
            "4/4 - 0s - loss: 2.0025e-05 - accuracy: 1.0000 - val_loss: 0.1990 - val_accuracy: 0.9670 - 36ms/epoch - 9ms/step\n"
          ]
        }
      ]
    },
    {
      "cell_type": "code",
      "source": [
        "model2.evaluate(X_test,y_test)"
      ],
      "metadata": {
        "colab": {
          "base_uri": "https://localhost:8080/"
        },
        "id": "5Cvqydbnf7Pa",
        "outputId": "e761e804-62ca-4cdc-ebe4-93e2d0f9a85f"
      },
      "execution_count": 14,
      "outputs": [
        {
          "output_type": "stream",
          "name": "stdout",
          "text": [
            "4/4 [==============================] - 0s 4ms/step - loss: 0.1062 - accuracy: 0.9649\n"
          ]
        },
        {
          "output_type": "execute_result",
          "data": {
            "text/plain": [
              "[0.10621459782123566, 0.9649122953414917]"
            ]
          },
          "metadata": {},
          "execution_count": 14
        }
      ]
    },
    {
      "cell_type": "code",
      "source": [
        "y_acc2=hist2.history['accuracy']\n",
        "y_vloss2=hist2.history['val_loss']\n",
        "xs=np.arange(1,len(y_acc2)+1)"
      ],
      "metadata": {
        "id": "RzfydABvgHVL"
      },
      "execution_count": 15,
      "outputs": []
    },
    {
      "cell_type": "code",
      "source": [
        "plt.figure(figsize=(20,8))\n",
        "plt.subplot(121)\n",
        "plt.plot(xs, y_acc, label='train accuracy')\n",
        "plt.plot(xs, y_vloss, label='validation loss')\n",
        "plt.legend()\n",
        "plt.grid()\n",
        "plt.ylim([0,1.1])\n",
        "plt.xlabel('Epoch')\n",
        "plt.title('Adam optimizer')\n",
        "\n",
        "plt.subplot(122)\n",
        "plt.plot(xs, y_acc2, label='train accuracy')\n",
        "plt.plot(xs, y_vloss2, label='validation loss')\n",
        "plt.legend()\n",
        "plt.grid()\n",
        "plt.ylim([0,1.1])\n",
        "plt.xlabel('Epoch')\n",
        "plt.title('RMSprop optimizer')\n",
        "plt.show()"
      ],
      "metadata": {
        "colab": {
          "base_uri": "https://localhost:8080/",
          "height": 384
        },
        "id": "t_b8NSqZgblZ",
        "outputId": "115cb6a3-c9e0-4a28-93e0-f0c7c122d97e"
      },
      "execution_count": 16,
      "outputs": [
        {
          "output_type": "display_data",
          "data": {
            "text/plain": [
              "<Figure size 1440x576 with 2 Axes>"
            ],
            "image/png": "[encoded data removed]"
          },
          "metadata": {
            "needs_background": "light"
          }
        }
      ]
    },
    {
      "cell_type": "code",
      "source": [
        ""
      ],
      "metadata": {
        "id": "efP7_04Mgy3J"
      },
      "execution_count": 16,
      "outputs": []
    }
  ]
}