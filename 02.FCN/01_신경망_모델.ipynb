{
  "nbformat": 4,
  "nbformat_minor": 0,
  "metadata": {
    "colab": {
      "name": "01_신경망 모델.ipynb",
      "provenance": []
    },
    "kernelspec": {
      "name": "python3",
      "display_name": "Python 3"
    },
    "language_info": {
      "name": "python"
    }
  },
  "cells": [
    {
      "cell_type": "code",
      "source": [
        "import numpy as np\n",
        "import pandas as pd\n",
        "import matplotlib.pyplot as plt"
      ],
      "metadata": {
        "id": "KNy4LwJZkUZe"
      },
      "execution_count": 2,
      "outputs": []
    },
    {
      "cell_type": "code",
      "execution_count": 3,
      "metadata": {
        "id": "Zdq4kL-n-Sjm"
      },
      "outputs": [],
      "source": [
        "import sklearn\n",
        "from sklearn.datasets import load_breast_cancer\n",
        "cancer = load_breast_cancer()\n",
        "df = pd.DataFrame(cancer.data, columns=cancer.feature_names)\n",
        "df['target'] = cancer.target\n",
        "\n"
      ]
    },
    {
      "cell_type": "markdown",
      "source": [
        "1.데이터를 정규화, 표준화 하지 않은 경우"
      ],
      "metadata": {
        "id": "Tj0_VFT0ERTm"
      }
    },
    {
      "cell_type": "code",
      "source": [
        "from sklearn.model_selection import train_test_split\n",
        "X_train,X_test,y_train,y_test=train_test_split(\n",
        "    cancer.data,cancer.target,stratify=cancer.target,\n",
        "    test_size=0.2, random_state=2022\n",
        ")"
      ],
      "metadata": {
        "id": "glnlArpREV7l"
      },
      "execution_count": 4,
      "outputs": []
    },
    {
      "cell_type": "code",
      "source": [
        "from tensorflow.keras.models import Sequential\n",
        "from tensorflow.keras.layers import Dense #fully connected network"
      ],
      "metadata": {
        "id": "GXHguVnQFN7X"
      },
      "execution_count": 5,
      "outputs": []
    },
    {
      "cell_type": "code",
      "source": [
        "model = Sequential([\n",
        "    Dense(100,input_shape=(30,),activation='relu'), \n",
        "    #3100개인 이유= 30x100 + bias 100개\n",
        "    Dense(24,activation='relu'),\n",
        "    #2424개인 이유= 24x100 + bias 24개\n",
        "    Dense(1,activation='sigmoid') \n",
        "])\n",
        "model.summary()"
      ],
      "metadata": {
        "colab": {
          "base_uri": "https://localhost:8080/"
        },
        "id": "Zct7VTsqFYf1",
        "outputId": "7af82c56-98ed-4cca-892a-fe34db7ecf9a"
      },
      "execution_count": 6,
      "outputs": [
        {
          "output_type": "stream",
          "name": "stdout",
          "text": [
            "Model: \"sequential\"\n",
            "_________________________________________________________________\n",
            " Layer (type)                Output Shape              Param #   \n",
            "=================================================================\n",
            " dense (Dense)               (None, 100)               3100      \n",
            "                                                                 \n",
            " dense_1 (Dense)             (None, 24)                2424      \n",
            "                                                                 \n",
            " dense_2 (Dense)             (None, 1)                 25        \n",
            "                                                                 \n",
            "=================================================================\n",
            "Total params: 5,549\n",
            "Trainable params: 5,549\n",
            "Non-trainable params: 0\n",
            "_________________________________________________________________\n"
          ]
        }
      ]
    },
    {
      "cell_type": "markdown",
      "source": [
        "- 모델 설정(컴파일)"
      ],
      "metadata": {
        "id": "6aaoTdjCGyGb"
      }
    },
    {
      "cell_type": "code",
      "source": [
        "model.compile(optimizer='adam',loss='binary_crossentropy',metrics=['accuracy'])"
      ],
      "metadata": {
        "id": "3i-Yt798GWMm"
      },
      "execution_count": 7,
      "outputs": []
    },
    {
      "cell_type": "markdown",
      "source": [
        "- 모델 학습"
      ],
      "metadata": {
        "id": "NiZ51TbuHLeq"
      }
    },
    {
      "cell_type": "code",
      "source": [
        "history=model.fit(X_train,y_train,validation_split=0.2,\n",
        "          epochs=100,\n",
        "          batch_size=100)"
      ],
      "metadata": {
        "id": "IDyGsriiHYGf",
        "colab": {
          "base_uri": "https://localhost:8080/"
        },
        "outputId": "d17b7df3-1371-4da3-f61e-b0d422013aac"
      },
      "execution_count": 8,
      "outputs": [
        {
          "output_type": "stream",
          "name": "stdout",
          "text": [
            "Epoch 1/100\n",
            "4/4 [==============================] - 1s 63ms/step - loss: 20.9934 - accuracy: 0.4148 - val_loss: 11.4692 - val_accuracy: 0.6484\n",
            "Epoch 2/100\n",
            "4/4 [==============================] - 0s 10ms/step - loss: 7.5635 - accuracy: 0.5989 - val_loss: 6.6312 - val_accuracy: 0.3516\n",
            "Epoch 3/100\n",
            "4/4 [==============================] - 0s 11ms/step - loss: 6.0385 - accuracy: 0.3901 - val_loss: 0.4790 - val_accuracy: 0.8571\n",
            "Epoch 4/100\n",
            "4/4 [==============================] - 0s 10ms/step - loss: 1.4153 - accuracy: 0.7995 - val_loss: 1.7905 - val_accuracy: 0.7473\n",
            "Epoch 5/100\n",
            "4/4 [==============================] - 0s 10ms/step - loss: 0.9815 - accuracy: 0.8544 - val_loss: 0.9839 - val_accuracy: 0.7582\n",
            "Epoch 6/100\n",
            "4/4 [==============================] - 0s 9ms/step - loss: 1.1467 - accuracy: 0.7308 - val_loss: 0.3795 - val_accuracy: 0.9341\n",
            "Epoch 7/100\n",
            "4/4 [==============================] - 0s 11ms/step - loss: 0.6834 - accuracy: 0.8819 - val_loss: 0.8181 - val_accuracy: 0.8791\n",
            "Epoch 8/100\n",
            "4/4 [==============================] - 0s 16ms/step - loss: 0.6069 - accuracy: 0.9011 - val_loss: 0.4414 - val_accuracy: 0.9231\n",
            "Epoch 9/100\n",
            "4/4 [==============================] - 0s 12ms/step - loss: 0.7316 - accuracy: 0.8159 - val_loss: 0.5319 - val_accuracy: 0.9011\n",
            "Epoch 10/100\n",
            "4/4 [==============================] - 0s 12ms/step - loss: 0.4438 - accuracy: 0.9038 - val_loss: 0.7186 - val_accuracy: 0.9011\n",
            "Epoch 11/100\n",
            "4/4 [==============================] - 0s 12ms/step - loss: 0.6437 - accuracy: 0.9038 - val_loss: 0.4568 - val_accuracy: 0.9121\n",
            "Epoch 12/100\n",
            "4/4 [==============================] - 0s 11ms/step - loss: 0.4713 - accuracy: 0.8791 - val_loss: 0.5570 - val_accuracy: 0.9011\n",
            "Epoch 13/100\n",
            "4/4 [==============================] - 0s 11ms/step - loss: 0.3795 - accuracy: 0.9038 - val_loss: 0.5214 - val_accuracy: 0.9121\n",
            "Epoch 14/100\n",
            "4/4 [==============================] - 0s 12ms/step - loss: 0.3753 - accuracy: 0.9093 - val_loss: 0.4081 - val_accuracy: 0.9121\n",
            "Epoch 15/100\n",
            "4/4 [==============================] - 0s 14ms/step - loss: 0.3066 - accuracy: 0.8956 - val_loss: 0.3972 - val_accuracy: 0.9121\n",
            "Epoch 16/100\n",
            "4/4 [==============================] - 0s 13ms/step - loss: 0.3141 - accuracy: 0.9148 - val_loss: 0.3983 - val_accuracy: 0.9231\n",
            "Epoch 17/100\n",
            "4/4 [==============================] - 0s 12ms/step - loss: 0.2518 - accuracy: 0.9258 - val_loss: 0.4152 - val_accuracy: 0.9121\n",
            "Epoch 18/100\n",
            "4/4 [==============================] - 0s 11ms/step - loss: 0.2909 - accuracy: 0.8984 - val_loss: 0.3623 - val_accuracy: 0.9231\n",
            "Epoch 19/100\n",
            "4/4 [==============================] - 0s 12ms/step - loss: 0.2386 - accuracy: 0.9176 - val_loss: 0.3655 - val_accuracy: 0.9121\n",
            "Epoch 20/100\n",
            "4/4 [==============================] - 0s 12ms/step - loss: 0.2321 - accuracy: 0.9121 - val_loss: 0.3501 - val_accuracy: 0.9231\n",
            "Epoch 21/100\n",
            "4/4 [==============================] - 0s 12ms/step - loss: 0.2347 - accuracy: 0.9148 - val_loss: 0.3528 - val_accuracy: 0.9121\n",
            "Epoch 22/100\n",
            "4/4 [==============================] - 0s 12ms/step - loss: 0.2359 - accuracy: 0.9203 - val_loss: 0.3441 - val_accuracy: 0.9121\n",
            "Epoch 23/100\n",
            "4/4 [==============================] - 0s 14ms/step - loss: 0.2487 - accuracy: 0.9093 - val_loss: 0.3446 - val_accuracy: 0.9121\n",
            "Epoch 24/100\n",
            "4/4 [==============================] - 0s 16ms/step - loss: 0.2312 - accuracy: 0.9286 - val_loss: 0.3381 - val_accuracy: 0.9231\n",
            "Epoch 25/100\n",
            "4/4 [==============================] - 0s 12ms/step - loss: 0.2293 - accuracy: 0.9176 - val_loss: 0.3434 - val_accuracy: 0.9121\n",
            "Epoch 26/100\n",
            "4/4 [==============================] - 0s 13ms/step - loss: 0.2132 - accuracy: 0.9231 - val_loss: 0.3300 - val_accuracy: 0.9231\n",
            "Epoch 27/100\n",
            "4/4 [==============================] - 0s 12ms/step - loss: 0.2256 - accuracy: 0.9121 - val_loss: 0.3264 - val_accuracy: 0.9231\n",
            "Epoch 28/100\n",
            "4/4 [==============================] - 0s 14ms/step - loss: 0.2348 - accuracy: 0.9258 - val_loss: 0.3248 - val_accuracy: 0.9231\n",
            "Epoch 29/100\n",
            "4/4 [==============================] - 0s 12ms/step - loss: 0.2101 - accuracy: 0.9203 - val_loss: 0.3200 - val_accuracy: 0.9231\n",
            "Epoch 30/100\n",
            "4/4 [==============================] - 0s 13ms/step - loss: 0.2067 - accuracy: 0.9258 - val_loss: 0.3164 - val_accuracy: 0.9231\n",
            "Epoch 31/100\n",
            "4/4 [==============================] - 0s 13ms/step - loss: 0.2185 - accuracy: 0.9203 - val_loss: 0.3090 - val_accuracy: 0.9231\n",
            "Epoch 32/100\n",
            "4/4 [==============================] - 0s 13ms/step - loss: 0.1976 - accuracy: 0.9286 - val_loss: 0.3042 - val_accuracy: 0.9341\n",
            "Epoch 33/100\n",
            "4/4 [==============================] - 0s 15ms/step - loss: 0.1959 - accuracy: 0.9286 - val_loss: 0.3336 - val_accuracy: 0.9121\n",
            "Epoch 34/100\n",
            "4/4 [==============================] - 0s 14ms/step - loss: 0.1948 - accuracy: 0.9231 - val_loss: 0.3050 - val_accuracy: 0.9231\n",
            "Epoch 35/100\n",
            "4/4 [==============================] - 0s 14ms/step - loss: 0.2028 - accuracy: 0.9258 - val_loss: 0.3364 - val_accuracy: 0.9121\n",
            "Epoch 36/100\n",
            "4/4 [==============================] - 0s 14ms/step - loss: 0.2220 - accuracy: 0.9148 - val_loss: 0.2917 - val_accuracy: 0.9231\n",
            "Epoch 37/100\n",
            "4/4 [==============================] - 0s 12ms/step - loss: 0.1783 - accuracy: 0.9341 - val_loss: 0.3247 - val_accuracy: 0.9121\n",
            "Epoch 38/100\n",
            "4/4 [==============================] - 0s 13ms/step - loss: 0.2195 - accuracy: 0.9093 - val_loss: 0.2842 - val_accuracy: 0.9341\n",
            "Epoch 39/100\n",
            "4/4 [==============================] - 0s 13ms/step - loss: 0.1785 - accuracy: 0.9286 - val_loss: 0.2981 - val_accuracy: 0.9231\n",
            "Epoch 40/100\n",
            "4/4 [==============================] - 0s 12ms/step - loss: 0.1911 - accuracy: 0.9286 - val_loss: 0.2812 - val_accuracy: 0.9231\n",
            "Epoch 41/100\n",
            "4/4 [==============================] - 0s 13ms/step - loss: 0.2173 - accuracy: 0.9203 - val_loss: 0.2808 - val_accuracy: 0.9121\n",
            "Epoch 42/100\n",
            "4/4 [==============================] - 0s 12ms/step - loss: 0.1856 - accuracy: 0.9368 - val_loss: 0.2954 - val_accuracy: 0.9231\n",
            "Epoch 43/100\n",
            "4/4 [==============================] - 0s 16ms/step - loss: 0.1955 - accuracy: 0.9176 - val_loss: 0.3266 - val_accuracy: 0.9011\n",
            "Epoch 44/100\n",
            "4/4 [==============================] - 0s 14ms/step - loss: 0.3067 - accuracy: 0.9121 - val_loss: 0.5337 - val_accuracy: 0.8462\n",
            "Epoch 45/100\n",
            "4/4 [==============================] - 0s 14ms/step - loss: 0.2980 - accuracy: 0.8901 - val_loss: 0.3622 - val_accuracy: 0.9121\n",
            "Epoch 46/100\n",
            "4/4 [==============================] - 0s 13ms/step - loss: 0.2512 - accuracy: 0.9176 - val_loss: 0.3345 - val_accuracy: 0.9231\n",
            "Epoch 47/100\n",
            "4/4 [==============================] - 0s 13ms/step - loss: 0.1972 - accuracy: 0.9313 - val_loss: 0.2966 - val_accuracy: 0.9231\n",
            "Epoch 48/100\n",
            "4/4 [==============================] - 0s 14ms/step - loss: 0.1761 - accuracy: 0.9286 - val_loss: 0.2851 - val_accuracy: 0.9231\n",
            "Epoch 49/100\n",
            "4/4 [==============================] - 0s 12ms/step - loss: 0.1685 - accuracy: 0.9341 - val_loss: 0.2761 - val_accuracy: 0.9231\n",
            "Epoch 50/100\n",
            "4/4 [==============================] - 0s 13ms/step - loss: 0.1705 - accuracy: 0.9258 - val_loss: 0.2678 - val_accuracy: 0.9121\n",
            "Epoch 51/100\n",
            "4/4 [==============================] - 0s 14ms/step - loss: 0.1853 - accuracy: 0.9368 - val_loss: 0.3826 - val_accuracy: 0.9121\n",
            "Epoch 52/100\n",
            "4/4 [==============================] - 0s 14ms/step - loss: 0.2312 - accuracy: 0.9176 - val_loss: 0.2609 - val_accuracy: 0.9121\n",
            "Epoch 53/100\n",
            "4/4 [==============================] - 0s 13ms/step - loss: 0.2241 - accuracy: 0.9148 - val_loss: 0.2399 - val_accuracy: 0.9231\n",
            "Epoch 54/100\n",
            "4/4 [==============================] - 0s 14ms/step - loss: 0.2257 - accuracy: 0.9286 - val_loss: 0.4292 - val_accuracy: 0.8791\n",
            "Epoch 55/100\n",
            "4/4 [==============================] - 0s 13ms/step - loss: 0.2635 - accuracy: 0.9203 - val_loss: 0.3107 - val_accuracy: 0.9121\n",
            "Epoch 56/100\n",
            "4/4 [==============================] - 0s 13ms/step - loss: 0.2173 - accuracy: 0.9258 - val_loss: 0.2789 - val_accuracy: 0.9231\n",
            "Epoch 57/100\n",
            "4/4 [==============================] - 0s 12ms/step - loss: 0.1684 - accuracy: 0.9396 - val_loss: 0.2629 - val_accuracy: 0.9231\n",
            "Epoch 58/100\n",
            "4/4 [==============================] - 0s 11ms/step - loss: 0.1551 - accuracy: 0.9396 - val_loss: 0.2521 - val_accuracy: 0.9231\n",
            "Epoch 59/100\n",
            "4/4 [==============================] - 0s 14ms/step - loss: 0.1517 - accuracy: 0.9451 - val_loss: 0.2703 - val_accuracy: 0.9231\n",
            "Epoch 60/100\n",
            "4/4 [==============================] - 0s 11ms/step - loss: 0.1518 - accuracy: 0.9313 - val_loss: 0.2531 - val_accuracy: 0.9231\n",
            "Epoch 61/100\n",
            "4/4 [==============================] - 0s 13ms/step - loss: 0.1661 - accuracy: 0.9313 - val_loss: 0.4274 - val_accuracy: 0.8791\n",
            "Epoch 62/100\n",
            "4/4 [==============================] - 0s 20ms/step - loss: 0.2301 - accuracy: 0.9093 - val_loss: 0.2324 - val_accuracy: 0.9121\n",
            "Epoch 63/100\n",
            "4/4 [==============================] - 0s 12ms/step - loss: 0.2233 - accuracy: 0.9258 - val_loss: 0.2456 - val_accuracy: 0.9121\n",
            "Epoch 64/100\n",
            "4/4 [==============================] - 0s 12ms/step - loss: 0.1865 - accuracy: 0.9341 - val_loss: 0.3359 - val_accuracy: 0.9341\n",
            "Epoch 65/100\n",
            "4/4 [==============================] - 0s 13ms/step - loss: 0.1798 - accuracy: 0.9286 - val_loss: 0.3436 - val_accuracy: 0.8901\n",
            "Epoch 66/100\n",
            "4/4 [==============================] - 0s 11ms/step - loss: 0.2406 - accuracy: 0.9313 - val_loss: 0.3927 - val_accuracy: 0.9231\n",
            "Epoch 67/100\n",
            "4/4 [==============================] - 0s 12ms/step - loss: 0.2134 - accuracy: 0.9258 - val_loss: 0.2727 - val_accuracy: 0.9231\n",
            "Epoch 68/100\n",
            "4/4 [==============================] - 0s 12ms/step - loss: 0.1872 - accuracy: 0.9258 - val_loss: 0.2633 - val_accuracy: 0.9121\n",
            "Epoch 69/100\n",
            "4/4 [==============================] - 0s 14ms/step - loss: 0.1896 - accuracy: 0.9258 - val_loss: 0.3517 - val_accuracy: 0.9341\n",
            "Epoch 70/100\n",
            "4/4 [==============================] - 0s 15ms/step - loss: 0.2512 - accuracy: 0.9066 - val_loss: 0.3306 - val_accuracy: 0.8901\n",
            "Epoch 71/100\n",
            "4/4 [==============================] - 0s 14ms/step - loss: 0.2399 - accuracy: 0.9203 - val_loss: 0.2736 - val_accuracy: 0.9231\n",
            "Epoch 72/100\n",
            "4/4 [==============================] - 0s 13ms/step - loss: 0.1496 - accuracy: 0.9368 - val_loss: 0.2841 - val_accuracy: 0.9231\n",
            "Epoch 73/100\n",
            "4/4 [==============================] - 0s 13ms/step - loss: 0.1568 - accuracy: 0.9313 - val_loss: 0.2637 - val_accuracy: 0.9121\n",
            "Epoch 74/100\n",
            "4/4 [==============================] - 0s 13ms/step - loss: 0.1368 - accuracy: 0.9451 - val_loss: 0.3743 - val_accuracy: 0.9231\n",
            "Epoch 75/100\n",
            "4/4 [==============================] - 0s 12ms/step - loss: 0.1854 - accuracy: 0.9341 - val_loss: 0.2385 - val_accuracy: 0.9231\n",
            "Epoch 76/100\n",
            "4/4 [==============================] - 0s 12ms/step - loss: 0.1387 - accuracy: 0.9451 - val_loss: 0.2520 - val_accuracy: 0.9231\n",
            "Epoch 77/100\n",
            "4/4 [==============================] - 0s 13ms/step - loss: 0.1295 - accuracy: 0.9423 - val_loss: 0.2496 - val_accuracy: 0.9231\n",
            "Epoch 78/100\n",
            "4/4 [==============================] - 0s 11ms/step - loss: 0.1351 - accuracy: 0.9368 - val_loss: 0.2472 - val_accuracy: 0.9121\n",
            "Epoch 79/100\n",
            "4/4 [==============================] - 0s 12ms/step - loss: 0.1426 - accuracy: 0.9451 - val_loss: 0.2875 - val_accuracy: 0.9231\n",
            "Epoch 80/100\n",
            "4/4 [==============================] - 0s 12ms/step - loss: 0.1258 - accuracy: 0.9505 - val_loss: 0.2374 - val_accuracy: 0.9121\n",
            "Epoch 81/100\n",
            "4/4 [==============================] - 0s 15ms/step - loss: 0.1389 - accuracy: 0.9368 - val_loss: 0.2360 - val_accuracy: 0.9231\n",
            "Epoch 82/100\n",
            "4/4 [==============================] - 0s 15ms/step - loss: 0.1360 - accuracy: 0.9423 - val_loss: 0.2641 - val_accuracy: 0.9231\n",
            "Epoch 83/100\n",
            "4/4 [==============================] - 0s 12ms/step - loss: 0.1261 - accuracy: 0.9478 - val_loss: 0.2352 - val_accuracy: 0.9121\n",
            "Epoch 84/100\n",
            "4/4 [==============================] - 0s 12ms/step - loss: 0.1296 - accuracy: 0.9505 - val_loss: 0.2474 - val_accuracy: 0.9231\n",
            "Epoch 85/100\n",
            "4/4 [==============================] - 0s 12ms/step - loss: 0.1236 - accuracy: 0.9505 - val_loss: 0.2306 - val_accuracy: 0.9121\n",
            "Epoch 86/100\n",
            "4/4 [==============================] - 0s 12ms/step - loss: 0.1288 - accuracy: 0.9478 - val_loss: 0.2354 - val_accuracy: 0.9121\n",
            "Epoch 87/100\n",
            "4/4 [==============================] - 0s 15ms/step - loss: 0.1246 - accuracy: 0.9505 - val_loss: 0.2294 - val_accuracy: 0.9121\n",
            "Epoch 88/100\n",
            "4/4 [==============================] - 0s 11ms/step - loss: 0.1393 - accuracy: 0.9451 - val_loss: 0.3522 - val_accuracy: 0.9341\n",
            "Epoch 89/100\n",
            "4/4 [==============================] - 0s 12ms/step - loss: 0.1337 - accuracy: 0.9505 - val_loss: 0.2402 - val_accuracy: 0.9231\n",
            "Epoch 90/100\n",
            "4/4 [==============================] - 0s 13ms/step - loss: 0.1485 - accuracy: 0.9505 - val_loss: 0.2391 - val_accuracy: 0.9121\n",
            "Epoch 91/100\n",
            "4/4 [==============================] - 0s 12ms/step - loss: 0.1349 - accuracy: 0.9423 - val_loss: 0.2821 - val_accuracy: 0.9231\n",
            "Epoch 92/100\n",
            "4/4 [==============================] - 0s 12ms/step - loss: 0.1305 - accuracy: 0.9423 - val_loss: 0.2377 - val_accuracy: 0.9231\n",
            "Epoch 93/100\n",
            "4/4 [==============================] - 0s 13ms/step - loss: 0.1384 - accuracy: 0.9533 - val_loss: 0.2393 - val_accuracy: 0.9231\n",
            "Epoch 94/100\n",
            "4/4 [==============================] - 0s 12ms/step - loss: 0.1684 - accuracy: 0.9368 - val_loss: 0.3909 - val_accuracy: 0.9121\n",
            "Epoch 95/100\n",
            "4/4 [==============================] - 0s 12ms/step - loss: 0.1662 - accuracy: 0.9341 - val_loss: 0.2404 - val_accuracy: 0.9231\n",
            "Epoch 96/100\n",
            "4/4 [==============================] - 0s 16ms/step - loss: 0.1192 - accuracy: 0.9478 - val_loss: 0.2449 - val_accuracy: 0.9231\n",
            "Epoch 97/100\n",
            "4/4 [==============================] - 0s 15ms/step - loss: 0.1600 - accuracy: 0.9396 - val_loss: 0.3852 - val_accuracy: 0.9231\n",
            "Epoch 98/100\n",
            "4/4 [==============================] - 0s 12ms/step - loss: 0.1554 - accuracy: 0.9451 - val_loss: 0.2789 - val_accuracy: 0.9011\n",
            "Epoch 99/100\n",
            "4/4 [==============================] - 0s 11ms/step - loss: 0.2117 - accuracy: 0.9203 - val_loss: 0.2470 - val_accuracy: 0.9231\n",
            "Epoch 100/100\n",
            "4/4 [==============================] - 0s 12ms/step - loss: 0.2812 - accuracy: 0.9258 - val_loss: 0.5050 - val_accuracy: 0.8462\n"
          ]
        }
      ]
    },
    {
      "cell_type": "markdown",
      "source": [
        "- 모델 평가"
      ],
      "metadata": {
        "id": "naOoIboDHujs"
      }
    },
    {
      "cell_type": "code",
      "source": [
        "model.evaluate(X_test,y_test)"
      ],
      "metadata": {
        "colab": {
          "base_uri": "https://localhost:8080/"
        },
        "id": "v5xOJzOAH_5G",
        "outputId": "00cc1ff4-5392-4ed0-e0d4-b2a256a39a7f"
      },
      "execution_count": null,
      "outputs": [
        {
          "output_type": "stream",
          "name": "stdout",
          "text": [
            "4/4 [==============================] - 0s 3ms/step - loss: 0.5442 - accuracy: 0.8509\n"
          ]
        },
        {
          "output_type": "execute_result",
          "data": {
            "text/plain": [
              "[0.5441654920578003, 0.8508771657943726]"
            ]
          },
          "metadata": {},
          "execution_count": 21
        }
      ]
    },
    {
      "cell_type": "markdown",
      "source": [
        "- 훈련과정 시각화:epoch에 따른 accuracy, val_loss의 변화"
      ],
      "metadata": {
        "id": "ywImIVtsIaB5"
      }
    },
    {
      "cell_type": "code",
      "source": [
        "import numpy as np \n",
        "y_acc = history.history['accuracy']\n",
        "y_vloss=history.history['val_loss']\n",
        "xs=np.arange(1,len(y_acc)+1)\n",
        "\n"
      ],
      "metadata": {
        "id": "ZsvdU0g9IEnu"
      },
      "execution_count": 9,
      "outputs": []
    },
    {
      "cell_type": "code",
      "source": [
        "import matplotlib.pyplot as plt\n",
        "plt.figure(figsize=(12,8))\n",
        "plt.plot(xs,y_acc,label='train_accuracy')\n",
        "plt.plot(xs,y_vloss,label='val_loss')\n",
        "plt.legend(), plt.grid()\n",
        "plt.xlabel('Epoch')\n",
        "plt.title('No feature transform')\n",
        "\n",
        "plt.ylim([0,1])\n",
        "plt.show()"
      ],
      "metadata": {
        "colab": {
          "base_uri": "https://localhost:8080/",
          "height": 512
        },
        "id": "4BHY6ozpJaq3",
        "outputId": "35cc40c1-b6c8-49b7-90f0-673055c695d4"
      },
      "execution_count": 10,
      "outputs": [
        {
          "output_type": "display_data",
          "data": {
            "text/plain": [
              "<Figure size 864x576 with 1 Axes>"
            ],
            "image/png": "[encoded data removed]"
          },
          "metadata": {
            "needs_background": "light"
          }
        }
      ]
    },
    {
      "cell_type": "markdown",
      "source": [
        "2.데이터를 정규화, 표준화한 경우"
      ],
      "metadata": {
        "id": "_5mJf_1NJBcx"
      }
    },
    {
      "cell_type": "code",
      "source": [
        "from sklearn.preprocessing import StandardScaler\n",
        "cancer_std = StandardScaler().fit_transform(cancer.data)"
      ],
      "metadata": {
        "id": "-FR7dQLMKiNU"
      },
      "execution_count": 16,
      "outputs": []
    },
    {
      "cell_type": "code",
      "source": [
        "X_train2,X_test2,y_train2,y_test2=train_test_split(\n",
        "    cancer.data,cancer.target,stratify=cancer.target,\n",
        "    test_size=0.2, random_state=2022\n",
        ")"
      ],
      "metadata": {
        "id": "Hs3Je4_8Kuk7"
      },
      "execution_count": 17,
      "outputs": []
    },
    {
      "cell_type": "code",
      "source": [
        "model2=Sequential()\n",
        "model2.add(Dense(100,input_dim=30,activation='relu'))\n",
        "model2.add(Dense(24,activation='relu'))\n",
        "model2.add(Dense(1,activation='sigmoid'))\n",
        "model2.summary()\n",
        "\n",
        "#앞에 모델1에서 한 거랑 똑같음."
      ],
      "metadata": {
        "colab": {
          "base_uri": "https://localhost:8080/"
        },
        "id": "gTayaFgdK_bZ",
        "outputId": "ffb69034-f86e-4edd-b142-842dc5d86f96"
      },
      "execution_count": 18,
      "outputs": [
        {
          "output_type": "stream",
          "name": "stdout",
          "text": [
            "Model: \"sequential_1\"\n",
            "_________________________________________________________________\n",
            " Layer (type)                Output Shape              Param #   \n",
            "=================================================================\n",
            " dense_3 (Dense)             (None, 100)               3100      \n",
            "                                                                 \n",
            " dense_4 (Dense)             (None, 24)                2424      \n",
            "                                                                 \n",
            " dense_5 (Dense)             (None, 1)                 25        \n",
            "                                                                 \n",
            "=================================================================\n",
            "Total params: 5,549\n",
            "Trainable params: 5,549\n",
            "Non-trainable params: 0\n",
            "_________________________________________________________________\n"
          ]
        }
      ]
    },
    {
      "cell_type": "markdown",
      "source": [
        "- 모델 설정"
      ],
      "metadata": {
        "id": "yA8JwL7nK_lH"
      }
    },
    {
      "cell_type": "code",
      "source": [
        "model2.compile(optimizer='adam',loss='binary_crossentropy',metrics=['accuracy'])"
      ],
      "metadata": {
        "id": "y1jR3TQXLpDj"
      },
      "execution_count": 19,
      "outputs": []
    },
    {
      "cell_type": "markdown",
      "source": [
        "- 모델 학습"
      ],
      "metadata": {
        "id": "mreODmZtL5hr"
      }
    },
    {
      "cell_type": "code",
      "source": [
        "hist2 = model2.fit(X_train2, y_train2, validation_split=0.2,\n",
        "                   epochs=100, batch_size=100)\n"
      ],
      "metadata": {
        "id": "vhPm9pR9LyfN",
        "colab": {
          "base_uri": "https://localhost:8080/"
        },
        "outputId": "bd1776c4-7814-463d-e7e2-3253a5f3f94d"
      },
      "execution_count": 20,
      "outputs": [
        {
          "output_type": "stream",
          "name": "stdout",
          "text": [
            "Epoch 1/100\n",
            "4/4 [==============================] - 2s 134ms/step - loss: 9.9442 - accuracy: 0.5192 - val_loss: 8.4095 - val_accuracy: 0.6484\n",
            "Epoch 2/100\n",
            "4/4 [==============================] - 0s 31ms/step - loss: 4.4740 - accuracy: 0.6154 - val_loss: 4.6415 - val_accuracy: 0.3626\n",
            "Epoch 3/100\n",
            "4/4 [==============================] - 0s 35ms/step - loss: 2.8912 - accuracy: 0.5357 - val_loss: 1.0056 - val_accuracy: 0.7473\n",
            "Epoch 4/100\n",
            "4/4 [==============================] - 0s 19ms/step - loss: 1.4176 - accuracy: 0.7582 - val_loss: 0.3221 - val_accuracy: 0.9011\n",
            "Epoch 5/100\n",
            "4/4 [==============================] - 0s 36ms/step - loss: 0.9188 - accuracy: 0.7637 - val_loss: 0.7839 - val_accuracy: 0.7692\n",
            "Epoch 6/100\n",
            "4/4 [==============================] - 0s 22ms/step - loss: 0.5932 - accuracy: 0.8599 - val_loss: 0.7950 - val_accuracy: 0.8681\n",
            "Epoch 7/100\n",
            "4/4 [==============================] - 0s 18ms/step - loss: 0.7317 - accuracy: 0.8709 - val_loss: 0.3585 - val_accuracy: 0.9121\n",
            "Epoch 8/100\n",
            "4/4 [==============================] - 0s 21ms/step - loss: 0.4425 - accuracy: 0.8571 - val_loss: 0.4196 - val_accuracy: 0.9011\n",
            "Epoch 9/100\n",
            "4/4 [==============================] - 0s 24ms/step - loss: 0.3142 - accuracy: 0.9203 - val_loss: 0.5033 - val_accuracy: 0.8901\n",
            "Epoch 10/100\n",
            "4/4 [==============================] - 0s 18ms/step - loss: 0.4360 - accuracy: 0.9093 - val_loss: 0.3556 - val_accuracy: 0.9121\n",
            "Epoch 11/100\n",
            "4/4 [==============================] - 0s 21ms/step - loss: 0.3316 - accuracy: 0.8956 - val_loss: 0.3901 - val_accuracy: 0.9121\n",
            "Epoch 12/100\n",
            "4/4 [==============================] - 0s 21ms/step - loss: 0.3232 - accuracy: 0.9011 - val_loss: 0.4033 - val_accuracy: 0.9121\n",
            "Epoch 13/100\n",
            "4/4 [==============================] - 0s 21ms/step - loss: 0.3104 - accuracy: 0.9203 - val_loss: 0.3519 - val_accuracy: 0.9121\n",
            "Epoch 14/100\n",
            "4/4 [==============================] - 0s 46ms/step - loss: 0.3101 - accuracy: 0.8901 - val_loss: 0.3497 - val_accuracy: 0.9121\n",
            "Epoch 15/100\n",
            "4/4 [==============================] - 0s 38ms/step - loss: 0.2824 - accuracy: 0.9258 - val_loss: 0.3796 - val_accuracy: 0.9231\n",
            "Epoch 16/100\n",
            "4/4 [==============================] - 0s 19ms/step - loss: 0.2762 - accuracy: 0.9148 - val_loss: 0.3467 - val_accuracy: 0.9121\n",
            "Epoch 17/100\n",
            "4/4 [==============================] - 0s 18ms/step - loss: 0.3026 - accuracy: 0.8901 - val_loss: 0.3436 - val_accuracy: 0.9231\n",
            "Epoch 18/100\n",
            "4/4 [==============================] - 0s 16ms/step - loss: 0.2926 - accuracy: 0.9231 - val_loss: 0.3528 - val_accuracy: 0.9231\n",
            "Epoch 19/100\n",
            "4/4 [==============================] - 0s 17ms/step - loss: 0.2535 - accuracy: 0.9176 - val_loss: 0.3535 - val_accuracy: 0.9341\n",
            "Epoch 20/100\n",
            "4/4 [==============================] - 0s 18ms/step - loss: 0.2712 - accuracy: 0.9038 - val_loss: 0.3501 - val_accuracy: 0.9231\n",
            "Epoch 21/100\n",
            "4/4 [==============================] - 0s 17ms/step - loss: 0.2671 - accuracy: 0.9286 - val_loss: 0.3218 - val_accuracy: 0.9121\n",
            "Epoch 22/100\n",
            "4/4 [==============================] - 0s 19ms/step - loss: 0.2501 - accuracy: 0.9093 - val_loss: 0.3149 - val_accuracy: 0.9121\n",
            "Epoch 23/100\n",
            "4/4 [==============================] - 0s 17ms/step - loss: 0.2386 - accuracy: 0.9231 - val_loss: 0.3092 - val_accuracy: 0.9121\n",
            "Epoch 24/100\n",
            "4/4 [==============================] - 0s 32ms/step - loss: 0.2387 - accuracy: 0.9121 - val_loss: 0.3039 - val_accuracy: 0.9121\n",
            "Epoch 25/100\n",
            "4/4 [==============================] - 0s 34ms/step - loss: 0.2320 - accuracy: 0.9203 - val_loss: 0.3025 - val_accuracy: 0.9231\n",
            "Epoch 26/100\n",
            "4/4 [==============================] - 0s 47ms/step - loss: 0.2311 - accuracy: 0.9231 - val_loss: 0.2926 - val_accuracy: 0.9231\n",
            "Epoch 27/100\n",
            "4/4 [==============================] - 0s 32ms/step - loss: 0.2296 - accuracy: 0.9258 - val_loss: 0.2889 - val_accuracy: 0.9231\n",
            "Epoch 28/100\n",
            "4/4 [==============================] - 0s 25ms/step - loss: 0.2514 - accuracy: 0.9038 - val_loss: 0.2898 - val_accuracy: 0.9341\n",
            "Epoch 29/100\n",
            "4/4 [==============================] - 0s 36ms/step - loss: 0.2879 - accuracy: 0.9258 - val_loss: 0.2886 - val_accuracy: 0.9231\n",
            "Epoch 30/100\n",
            "4/4 [==============================] - 0s 29ms/step - loss: 0.2373 - accuracy: 0.9093 - val_loss: 0.2808 - val_accuracy: 0.9231\n",
            "Epoch 31/100\n",
            "4/4 [==============================] - 0s 23ms/step - loss: 0.2383 - accuracy: 0.9313 - val_loss: 0.2786 - val_accuracy: 0.9231\n",
            "Epoch 32/100\n",
            "4/4 [==============================] - 0s 45ms/step - loss: 0.2096 - accuracy: 0.9176 - val_loss: 0.2717 - val_accuracy: 0.9231\n",
            "Epoch 33/100\n",
            "4/4 [==============================] - 0s 25ms/step - loss: 0.2035 - accuracy: 0.9313 - val_loss: 0.2846 - val_accuracy: 0.9231\n",
            "Epoch 34/100\n",
            "4/4 [==============================] - 0s 27ms/step - loss: 0.2005 - accuracy: 0.9258 - val_loss: 0.2731 - val_accuracy: 0.9231\n",
            "Epoch 35/100\n",
            "4/4 [==============================] - 0s 31ms/step - loss: 0.1990 - accuracy: 0.9231 - val_loss: 0.2711 - val_accuracy: 0.9231\n",
            "Epoch 36/100\n",
            "4/4 [==============================] - 0s 29ms/step - loss: 0.1892 - accuracy: 0.9231 - val_loss: 0.2700 - val_accuracy: 0.9231\n",
            "Epoch 37/100\n",
            "4/4 [==============================] - 0s 38ms/step - loss: 0.1866 - accuracy: 0.9313 - val_loss: 0.2706 - val_accuracy: 0.9231\n",
            "Epoch 38/100\n",
            "4/4 [==============================] - 0s 27ms/step - loss: 0.1876 - accuracy: 0.9368 - val_loss: 0.2790 - val_accuracy: 0.9231\n",
            "Epoch 39/100\n",
            "4/4 [==============================] - 0s 25ms/step - loss: 0.1876 - accuracy: 0.9121 - val_loss: 0.2594 - val_accuracy: 0.9231\n",
            "Epoch 40/100\n",
            "4/4 [==============================] - 0s 25ms/step - loss: 0.1769 - accuracy: 0.9286 - val_loss: 0.2619 - val_accuracy: 0.9231\n",
            "Epoch 41/100\n",
            "4/4 [==============================] - 0s 43ms/step - loss: 0.1768 - accuracy: 0.9231 - val_loss: 0.2557 - val_accuracy: 0.8901\n",
            "Epoch 42/100\n",
            "4/4 [==============================] - 0s 22ms/step - loss: 0.1838 - accuracy: 0.9286 - val_loss: 0.2525 - val_accuracy: 0.9231\n",
            "Epoch 43/100\n",
            "4/4 [==============================] - 0s 33ms/step - loss: 0.1795 - accuracy: 0.9341 - val_loss: 0.2574 - val_accuracy: 0.9231\n",
            "Epoch 44/100\n",
            "4/4 [==============================] - 0s 46ms/step - loss: 0.1720 - accuracy: 0.9286 - val_loss: 0.2651 - val_accuracy: 0.9231\n",
            "Epoch 45/100\n",
            "4/4 [==============================] - 0s 20ms/step - loss: 0.1785 - accuracy: 0.9231 - val_loss: 0.2625 - val_accuracy: 0.9011\n",
            "Epoch 46/100\n",
            "4/4 [==============================] - 0s 48ms/step - loss: 0.1971 - accuracy: 0.9396 - val_loss: 0.2933 - val_accuracy: 0.9121\n",
            "Epoch 47/100\n",
            "4/4 [==============================] - 0s 40ms/step - loss: 0.1940 - accuracy: 0.9313 - val_loss: 0.2505 - val_accuracy: 0.9231\n",
            "Epoch 48/100\n",
            "4/4 [==============================] - 0s 34ms/step - loss: 0.1867 - accuracy: 0.9176 - val_loss: 0.2520 - val_accuracy: 0.9011\n",
            "Epoch 49/100\n",
            "4/4 [==============================] - 0s 19ms/step - loss: 0.2050 - accuracy: 0.9341 - val_loss: 0.2508 - val_accuracy: 0.9231\n",
            "Epoch 50/100\n",
            "4/4 [==============================] - 0s 22ms/step - loss: 0.1839 - accuracy: 0.9368 - val_loss: 0.2556 - val_accuracy: 0.9231\n",
            "Epoch 51/100\n",
            "4/4 [==============================] - 0s 25ms/step - loss: 0.1841 - accuracy: 0.9286 - val_loss: 0.2829 - val_accuracy: 0.9011\n",
            "Epoch 52/100\n",
            "4/4 [==============================] - 0s 36ms/step - loss: 0.2134 - accuracy: 0.9203 - val_loss: 0.3865 - val_accuracy: 0.8791\n",
            "Epoch 53/100\n",
            "4/4 [==============================] - 0s 28ms/step - loss: 0.1989 - accuracy: 0.9286 - val_loss: 0.2966 - val_accuracy: 0.9121\n",
            "Epoch 54/100\n",
            "4/4 [==============================] - 0s 20ms/step - loss: 0.2572 - accuracy: 0.9203 - val_loss: 0.2268 - val_accuracy: 0.9121\n",
            "Epoch 55/100\n",
            "4/4 [==============================] - 0s 30ms/step - loss: 0.1937 - accuracy: 0.9396 - val_loss: 0.2653 - val_accuracy: 0.9121\n",
            "Epoch 56/100\n",
            "4/4 [==============================] - 0s 19ms/step - loss: 0.2461 - accuracy: 0.9176 - val_loss: 0.2267 - val_accuracy: 0.9121\n",
            "Epoch 57/100\n",
            "4/4 [==============================] - 0s 35ms/step - loss: 0.2303 - accuracy: 0.9148 - val_loss: 0.2734 - val_accuracy: 0.9011\n",
            "Epoch 58/100\n",
            "4/4 [==============================] - 0s 22ms/step - loss: 0.2093 - accuracy: 0.9313 - val_loss: 0.5119 - val_accuracy: 0.8242\n",
            "Epoch 59/100\n",
            "4/4 [==============================] - 0s 18ms/step - loss: 0.2606 - accuracy: 0.9038 - val_loss: 0.3216 - val_accuracy: 0.9121\n",
            "Epoch 60/100\n",
            "4/4 [==============================] - 0s 21ms/step - loss: 0.2167 - accuracy: 0.9258 - val_loss: 0.2683 - val_accuracy: 0.9011\n",
            "Epoch 61/100\n",
            "4/4 [==============================] - 0s 33ms/step - loss: 0.1603 - accuracy: 0.9451 - val_loss: 0.2447 - val_accuracy: 0.9011\n",
            "Epoch 62/100\n",
            "4/4 [==============================] - 0s 37ms/step - loss: 0.2020 - accuracy: 0.9286 - val_loss: 0.2254 - val_accuracy: 0.9231\n",
            "Epoch 63/100\n",
            "4/4 [==============================] - 0s 52ms/step - loss: 0.1759 - accuracy: 0.9423 - val_loss: 0.2268 - val_accuracy: 0.9231\n",
            "Epoch 64/100\n",
            "4/4 [==============================] - 0s 56ms/step - loss: 0.1666 - accuracy: 0.9341 - val_loss: 0.2245 - val_accuracy: 0.9121\n",
            "Epoch 65/100\n",
            "4/4 [==============================] - 0s 46ms/step - loss: 0.1595 - accuracy: 0.9396 - val_loss: 0.2523 - val_accuracy: 0.9121\n",
            "Epoch 66/100\n",
            "4/4 [==============================] - 0s 22ms/step - loss: 0.1519 - accuracy: 0.9423 - val_loss: 0.2311 - val_accuracy: 0.9011\n",
            "Epoch 67/100\n",
            "4/4 [==============================] - 0s 18ms/step - loss: 0.1488 - accuracy: 0.9451 - val_loss: 0.4115 - val_accuracy: 0.8571\n",
            "Epoch 68/100\n",
            "4/4 [==============================] - 0s 19ms/step - loss: 0.2203 - accuracy: 0.9203 - val_loss: 0.2304 - val_accuracy: 0.9121\n",
            "Epoch 69/100\n",
            "4/4 [==============================] - 0s 27ms/step - loss: 0.1828 - accuracy: 0.9313 - val_loss: 0.2266 - val_accuracy: 0.9011\n",
            "Epoch 70/100\n",
            "4/4 [==============================] - 0s 21ms/step - loss: 0.1489 - accuracy: 0.9505 - val_loss: 0.4541 - val_accuracy: 0.8462\n",
            "Epoch 71/100\n",
            "4/4 [==============================] - 0s 20ms/step - loss: 0.2204 - accuracy: 0.9286 - val_loss: 0.2534 - val_accuracy: 0.9011\n",
            "Epoch 72/100\n",
            "4/4 [==============================] - 0s 16ms/step - loss: 0.1755 - accuracy: 0.9231 - val_loss: 0.2834 - val_accuracy: 0.9121\n",
            "Epoch 73/100\n",
            "4/4 [==============================] - 0s 30ms/step - loss: 0.1695 - accuracy: 0.9423 - val_loss: 0.2180 - val_accuracy: 0.9121\n",
            "Epoch 74/100\n",
            "4/4 [==============================] - 0s 26ms/step - loss: 0.1550 - accuracy: 0.9396 - val_loss: 0.2155 - val_accuracy: 0.9121\n",
            "Epoch 75/100\n",
            "4/4 [==============================] - 0s 20ms/step - loss: 0.1530 - accuracy: 0.9505 - val_loss: 0.2603 - val_accuracy: 0.9011\n",
            "Epoch 76/100\n",
            "4/4 [==============================] - 0s 22ms/step - loss: 0.1621 - accuracy: 0.9341 - val_loss: 0.2289 - val_accuracy: 0.9121\n",
            "Epoch 77/100\n",
            "4/4 [==============================] - 0s 21ms/step - loss: 0.1849 - accuracy: 0.9286 - val_loss: 0.2197 - val_accuracy: 0.9121\n",
            "Epoch 78/100\n",
            "4/4 [==============================] - 0s 22ms/step - loss: 0.1897 - accuracy: 0.9313 - val_loss: 0.3857 - val_accuracy: 0.8681\n",
            "Epoch 79/100\n",
            "4/4 [==============================] - 0s 20ms/step - loss: 0.2165 - accuracy: 0.9203 - val_loss: 0.2111 - val_accuracy: 0.9121\n",
            "Epoch 80/100\n",
            "4/4 [==============================] - 0s 23ms/step - loss: 0.1716 - accuracy: 0.9231 - val_loss: 0.2143 - val_accuracy: 0.9121\n",
            "Epoch 81/100\n",
            "4/4 [==============================] - 0s 24ms/step - loss: 0.1886 - accuracy: 0.9368 - val_loss: 0.2536 - val_accuracy: 0.9011\n",
            "Epoch 82/100\n",
            "4/4 [==============================] - 0s 24ms/step - loss: 0.1762 - accuracy: 0.9313 - val_loss: 0.2363 - val_accuracy: 0.9011\n",
            "Epoch 83/100\n",
            "4/4 [==============================] - 0s 22ms/step - loss: 0.1654 - accuracy: 0.9258 - val_loss: 0.2282 - val_accuracy: 0.9121\n",
            "Epoch 84/100\n",
            "4/4 [==============================] - 0s 17ms/step - loss: 0.1808 - accuracy: 0.9396 - val_loss: 0.2632 - val_accuracy: 0.9121\n",
            "Epoch 85/100\n",
            "4/4 [==============================] - 0s 28ms/step - loss: 0.1752 - accuracy: 0.9396 - val_loss: 0.2795 - val_accuracy: 0.9121\n",
            "Epoch 86/100\n",
            "4/4 [==============================] - 0s 25ms/step - loss: 0.1649 - accuracy: 0.9341 - val_loss: 0.2121 - val_accuracy: 0.9121\n",
            "Epoch 87/100\n",
            "4/4 [==============================] - 0s 34ms/step - loss: 0.1503 - accuracy: 0.9478 - val_loss: 0.2224 - val_accuracy: 0.9121\n",
            "Epoch 88/100\n",
            "4/4 [==============================] - 0s 22ms/step - loss: 0.1469 - accuracy: 0.9423 - val_loss: 0.2220 - val_accuracy: 0.9121\n",
            "Epoch 89/100\n",
            "4/4 [==============================] - 0s 18ms/step - loss: 0.1638 - accuracy: 0.9286 - val_loss: 0.2276 - val_accuracy: 0.9121\n",
            "Epoch 90/100\n",
            "4/4 [==============================] - 0s 18ms/step - loss: 0.1467 - accuracy: 0.9368 - val_loss: 0.2072 - val_accuracy: 0.9121\n",
            "Epoch 91/100\n",
            "4/4 [==============================] - 0s 21ms/step - loss: 0.1420 - accuracy: 0.9505 - val_loss: 0.3412 - val_accuracy: 0.8791\n",
            "Epoch 92/100\n",
            "4/4 [==============================] - 0s 24ms/step - loss: 0.1895 - accuracy: 0.9176 - val_loss: 0.2129 - val_accuracy: 0.9121\n",
            "Epoch 93/100\n",
            "4/4 [==============================] - 0s 19ms/step - loss: 0.1772 - accuracy: 0.9286 - val_loss: 0.2068 - val_accuracy: 0.9121\n",
            "Epoch 94/100\n",
            "4/4 [==============================] - 0s 25ms/step - loss: 0.1554 - accuracy: 0.9396 - val_loss: 0.2091 - val_accuracy: 0.9121\n",
            "Epoch 95/100\n",
            "4/4 [==============================] - 0s 18ms/step - loss: 0.1543 - accuracy: 0.9533 - val_loss: 0.4123 - val_accuracy: 0.8462\n",
            "Epoch 96/100\n",
            "4/4 [==============================] - 0s 20ms/step - loss: 0.1865 - accuracy: 0.9066 - val_loss: 0.2324 - val_accuracy: 0.9121\n",
            "Epoch 97/100\n",
            "4/4 [==============================] - 0s 21ms/step - loss: 0.1611 - accuracy: 0.9396 - val_loss: 0.2475 - val_accuracy: 0.9011\n",
            "Epoch 98/100\n",
            "4/4 [==============================] - 0s 32ms/step - loss: 0.1987 - accuracy: 0.9341 - val_loss: 0.2977 - val_accuracy: 0.9121\n",
            "Epoch 99/100\n",
            "4/4 [==============================] - 0s 21ms/step - loss: 0.1791 - accuracy: 0.9423 - val_loss: 0.2666 - val_accuracy: 0.9231\n",
            "Epoch 100/100\n",
            "4/4 [==============================] - 0s 23ms/step - loss: 0.2162 - accuracy: 0.9258 - val_loss: 0.2011 - val_accuracy: 0.9121\n"
          ]
        }
      ]
    },
    {
      "cell_type": "markdown",
      "source": [
        "- 모델 평가"
      ],
      "metadata": {
        "id": "6ddzm4SsMFzE"
      }
    },
    {
      "cell_type": "code",
      "source": [
        "model2.evaluate(X_test2, y_test2)"
      ],
      "metadata": {
        "colab": {
          "base_uri": "https://localhost:8080/"
        },
        "id": "onWwTBGNMR6i",
        "outputId": "c467c034-8491-4de4-e037-1ec198e5d0a6"
      },
      "execution_count": 21,
      "outputs": [
        {
          "output_type": "stream",
          "name": "stdout",
          "text": [
            "4/4 [==============================] - 0s 4ms/step - loss: 0.2851 - accuracy: 0.9035\n"
          ]
        },
        {
          "output_type": "execute_result",
          "data": {
            "text/plain": [
              "[0.2850845456123352, 0.9035087823867798]"
            ]
          },
          "metadata": {},
          "execution_count": 21
        }
      ]
    },
    {
      "cell_type": "code",
      "source": [
        "y_acc2 = hist2.history['accuracy']\n",
        "y_vloss2=hist2.history['val_loss']\n",
        "xs=np.arange(1,len(y_acc)+1)\n"
      ],
      "metadata": {
        "id": "RcWi6TBeMVMG"
      },
      "execution_count": 22,
      "outputs": []
    },
    {
      "cell_type": "code",
      "source": [
        "plt.figure(figsize=(12,8))\n",
        "plt.plot(xs,y_acc,label='train_accuracy')\n",
        "plt.plot(xs,y_vloss,label='val_loss')\n",
        "plt.legend(), plt.grid()\n",
        "plt.xlabel('Epoch')\n",
        "plt.ylim([0,1])\n",
        "plt.show()"
      ],
      "metadata": {
        "id": "Oz_YdK7SMty2",
        "outputId": "8f753e57-ac55-4dd9-8439-9f05c7b5cd0c",
        "colab": {
          "base_uri": "https://localhost:8080/",
          "height": 501
        }
      },
      "execution_count": 23,
      "outputs": [
        {
          "output_type": "display_data",
          "data": {
            "text/plain": [
              "<Figure size 864x576 with 1 Axes>"
            ],
            "image/png": "[encoded data removed]"
          },
          "metadata": {
            "needs_background": "light"
          }
        }
      ]
    },
    {
      "cell_type": "code",
      "source": [
        ""
      ],
      "metadata": {
        "id": "aBUDcj3qMv7J"
      },
      "execution_count": 23,
      "outputs": []
    }
  ]
}