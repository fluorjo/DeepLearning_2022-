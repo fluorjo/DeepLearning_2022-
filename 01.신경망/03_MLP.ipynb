{
  "nbformat": 4,
  "nbformat_minor": 0,
  "metadata": {
    "colab": {
      "name": "03.MLP.ipynb",
      "provenance": []
    },
    "kernelspec": {
      "name": "python3",
      "display_name": "Python 3"
    },
    "language_info": {
      "name": "python"
    }
  },
  "cells": [
    {
      "cell_type": "markdown",
      "source": [
        "# Multi Layer Perceptron(MLP)\n"
      ],
      "metadata": {
        "id": "HDE6rMDzjUy4"
      }
    },
    {
      "cell_type": "code",
      "source": [
        "import numpy as np"
      ],
      "metadata": {
        "id": "Gnb-IKF7jW0J"
      },
      "execution_count": 2,
      "outputs": []
    },
    {
      "cell_type": "markdown",
      "source": [
        "- AND gate"
      ],
      "metadata": {
        "id": "HSdHCX2ujaS3"
      }
    },
    {
      "cell_type": "code",
      "source": [
        "def AND_gate(x1, x2):\n",
        "    weight = np.array([1,1])\n",
        "    bias = -1\n",
        "    x = np.array([x1,x2])\n",
        "    sum = np.dot(weight, x) + bias\n",
        "    return 0 if sum <= 0 else 1"
      ],
      "metadata": {
        "id": "EB3Zt6CejZOP"
      },
      "execution_count": 1,
      "outputs": []
    },
    {
      "cell_type": "code",
      "source": [
        "for x1, x2 in [(0,0),(0,1),(1,0),(1,1)]:\n",
        "    print(AND_gate(x1,x2))\n"
      ],
      "metadata": {
        "colab": {
          "base_uri": "https://localhost:8080/"
        },
        "id": "0oExi5-4jeBl",
        "outputId": "0c5e2a96-00bb-4e24-9850-7e2c4f27252e"
      },
      "execution_count": 3,
      "outputs": [
        {
          "output_type": "stream",
          "name": "stdout",
          "text": [
            "0\n",
            "0\n",
            "0\n",
            "1\n"
          ]
        }
      ]
    },
    {
      "cell_type": "markdown",
      "source": [
        "- OR gate"
      ],
      "metadata": {
        "id": "CUD2AujhjflP"
      }
    },
    {
      "cell_type": "code",
      "source": [
        "def OR_gate(x1, x2):\n",
        "    weight = np.array([2,2])\n",
        "    bias = -1\n",
        "    x = np.array([x1,x2])\n",
        "    sum = np.dot(weight, x) + bias\n",
        "    return 0 if sum <= 0 else 1"
      ],
      "metadata": {
        "id": "JpE7oML8jiY_"
      },
      "execution_count": 4,
      "outputs": []
    },
    {
      "cell_type": "code",
      "source": [
        "for x1, x2 in [(0,0),(0,1),(1,0),(1,1)]:\n",
        "    print(OR_gate(x1,x2))"
      ],
      "metadata": {
        "colab": {
          "base_uri": "https://localhost:8080/"
        },
        "id": "QeKtnYe5jj63",
        "outputId": "98ac1367-c564-45e9-b8d4-9329a4f91260"
      },
      "execution_count": 5,
      "outputs": [
        {
          "output_type": "stream",
          "name": "stdout",
          "text": [
            "0\n",
            "1\n",
            "1\n",
            "1\n"
          ]
        }
      ]
    },
    {
      "cell_type": "markdown",
      "source": [
        "- NAND gate"
      ],
      "metadata": {
        "id": "5hMu7myDjlEf"
      }
    },
    {
      "cell_type": "code",
      "source": [
        "def NAND_gate(x1, x2):\n",
        "    weight = np.array([-2,-2])\n",
        "    bias = 3\n",
        "    x = np.array([x1,x2])\n",
        "    sum = np.dot(weight, x) + bias\n",
        "    return 0 if sum <= 0 else 1"
      ],
      "metadata": {
        "id": "_B49WVAxjnoB"
      },
      "execution_count": 6,
      "outputs": []
    },
    {
      "cell_type": "code",
      "source": [
        "for x1, x2 in [(0,0),(0,1),(1,0),(1,1)]:\n",
        "    print(NAND_gate(x1,x2))"
      ],
      "metadata": {
        "colab": {
          "base_uri": "https://localhost:8080/"
        },
        "id": "zpGnDn9kjopz",
        "outputId": "598fc4ad-aa12-4344-aec4-22cbcb5f7316"
      },
      "execution_count": 7,
      "outputs": [
        {
          "output_type": "stream",
          "name": "stdout",
          "text": [
            "1\n",
            "1\n",
            "1\n",
            "0\n"
          ]
        }
      ]
    },
    {
      "cell_type": "markdown",
      "source": [
        "- MLP"
      ],
      "metadata": {
        "id": "RykKRjltjp6H"
      }
    },
    {
      "cell_type": "code",
      "source": [
        "n1, n2 = [], []\n",
        "for x1, x2 in [(0,0),(0,1),(1,0),(1,1)]:\n",
        "    n1.append(NAND_gate(x1,x2))\n",
        "    n2.append(OR_gate(x1,x2))"
      ],
      "metadata": {
        "id": "uIvDeYEcjrbf"
      },
      "execution_count": 8,
      "outputs": []
    },
    {
      "cell_type": "code",
      "source": [
        "n1, n2\n"
      ],
      "metadata": {
        "colab": {
          "base_uri": "https://localhost:8080/"
        },
        "id": "xbno97pzjs0p",
        "outputId": "0174db7a-78f0-404a-8d7c-04bb1dec06c3"
      },
      "execution_count": 9,
      "outputs": [
        {
          "output_type": "execute_result",
          "data": {
            "text/plain": [
              "([1, 1, 1, 0], [0, 1, 1, 1])"
            ]
          },
          "metadata": {},
          "execution_count": 9
        }
      ]
    },
    {
      "cell_type": "code",
      "source": [
        "for x1, x2 in zip(n1,n2):\n",
        "    print(AND_gate(x1,x2))"
      ],
      "metadata": {
        "colab": {
          "base_uri": "https://localhost:8080/"
        },
        "id": "j3Hv6zngjuBX",
        "outputId": "f37b302d-df38-4119-83ea-8381e5d24c57"
      },
      "execution_count": 10,
      "outputs": [
        {
          "output_type": "stream",
          "name": "stdout",
          "text": [
            "0\n",
            "1\n",
            "1\n",
            "0\n"
          ]
        }
      ]
    },
    {
      "cell_type": "markdown",
      "source": [
        "- XOR gate"
      ],
      "metadata": {
        "id": "u83fipOvju1_"
      }
    },
    {
      "cell_type": "code",
      "execution_count": 13,
      "metadata": {
        "id": "rNjC098aGaXz"
      },
      "outputs": [],
      "source": [
        "def XOR_gate(x1, x2):\n",
        "    return AND_gate(NAND_gate(x1,x2), OR_gate(x1,x2))"
      ]
    },
    {
      "cell_type": "code",
      "source": [
        "print('x1,x2\\tn1,n2\\tXOR')\n",
        "for x1, x2 in [(0,0), (0,1), (1,0), (1,1)]:\n",
        "    print(f'{x1:2d},{x2:2d}\\t{NAND_gate(x1,x2):2d},{OR_gate(x1,x2):2d}\\t{XOR_gate(x1,x2):3d}')"
      ],
      "metadata": {
        "id": "0lJKoSPsOynx",
        "colab": {
          "base_uri": "https://localhost:8080/"
        },
        "outputId": "45aa6bd2-574e-4576-bb03-a68e848f09b3"
      },
      "execution_count": 14,
      "outputs": [
        {
          "output_type": "stream",
          "name": "stdout",
          "text": [
            "x1,x2\tn1,n2\tXOR\n",
            " 0, 0\t 1, 0\t  0\n",
            " 0, 1\t 1, 1\t  1\n",
            " 1, 0\t 1, 1\t  1\n",
            " 1, 1\t 0, 1\t  0\n"
          ]
        }
      ]
    },
    {
      "cell_type": "code",
      "source": [
        ""
      ],
      "metadata": {
        "id": "UM8_wibrjzcu"
      },
      "execution_count": null,
      "outputs": []
    }
  ]
}