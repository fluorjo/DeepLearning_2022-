{
  "nbformat": 4,
  "nbformat_minor": 0,
  "metadata": {
    "colab": {
      "name": "01.신경망.ipynb",
      "provenance": []
    },
    "kernelspec": {
      "name": "python3",
      "display_name": "Python 3"
    },
    "language_info": {
      "name": "python"
    }
  },
  "cells": [
    {
      "cell_type": "code",
      "execution_count": 2,
      "metadata": {
        "id": "njGrCwOn3j_u"
      },
      "outputs": [],
      "source": [
        "import numpy as np"
      ]
    },
    {
      "cell_type": "markdown",
      "source": [
        "AND gate"
      ],
      "metadata": {
        "id": "NWH-9U8E3sPT"
      }
    },
    {
      "cell_type": "code",
      "source": [
        "weight=np.array([1,1])\n",
        "bias=-1\n",
        "\n",
        "for x1,x2 in [(0,0),(0,1),(1,0),(1,1)]:\n",
        "    sum = weight[0] * x1 + weight[1] *x2 + bias\n",
        "    print(sum)"
      ],
      "metadata": {
        "colab": {
          "base_uri": "https://localhost:8080/"
        },
        "id": "zSjhzswp3vlo",
        "outputId": "49244fac-4d0e-49d0-8a5f-21473a8768b7"
      },
      "execution_count": 3,
      "outputs": [
        {
          "output_type": "stream",
          "name": "stdout",
          "text": [
            "-1\n",
            "0\n",
            "0\n",
            "1\n"
          ]
        }
      ]
    },
    {
      "cell_type": "code",
      "source": [
        "#Step 활성화함수\n",
        "\n",
        "for x1,x2 in [(0,0),(0,1),(1,0),(1,1)]:\n",
        "    x=np.array([x1,x2])\n",
        "    sum=np.dot(weight,x) + bias\n",
        "    print(0 if sum <=0 else 1)"
      ],
      "metadata": {
        "colab": {
          "base_uri": "https://localhost:8080/"
        },
        "id": "pVfBbPWs4H49",
        "outputId": "56199d04-e4dc-428c-d661-213aeceb7de1"
      },
      "execution_count": 6,
      "outputs": [
        {
          "output_type": "stream",
          "name": "stdout",
          "text": [
            "0\n",
            "0\n",
            "0\n",
            "1\n"
          ]
        }
      ]
    },
    {
      "cell_type": "code",
      "source": [
        "for x1, x2 in [(0,0),(0,1),(1,0),(1,1)]:\n",
        "    sum = weight[0] * x1 + weight[1] * x2 + bias\n",
        "    print(0 if sum <= 0 else 1)"
      ],
      "metadata": {
        "colab": {
          "base_uri": "https://localhost:8080/"
        },
        "id": "pRHN0KPCiRqf",
        "outputId": "b73c366c-0a70-4e06-b05d-73ab76d828c4"
      },
      "execution_count": 7,
      "outputs": [
        {
          "output_type": "stream",
          "name": "stdout",
          "text": [
            "0\n",
            "0\n",
            "0\n",
            "1\n"
          ]
        }
      ]
    },
    {
      "cell_type": "code",
      "source": [
        "def AND_gate (x1,x2):\n",
        "    weight=np.array([1,1])\n",
        "    bias=-1\n",
        "    x=np.array([x1,x2])\n",
        "    sum=np.dot(weight,x) + bias\n",
        "    return 0 if sum <=0 else 1\n"
      ],
      "metadata": {
        "id": "6l5X6e0j4UOq"
      },
      "execution_count": 5,
      "outputs": []
    },
    {
      "cell_type": "code",
      "source": [
        "for x1,x2 in [(0,0),(0,1),(1,0),(1,1)]:\n",
        "    print(AND_gate(x1,x2))"
      ],
      "metadata": {
        "id": "nmQNa2lX5HM0"
      },
      "execution_count": null,
      "outputs": []
    },
    {
      "cell_type": "markdown",
      "source": [
        "OR gate"
      ],
      "metadata": {
        "id": "KhDk_NaQ5XGj"
      }
    },
    {
      "cell_type": "code",
      "source": [
        "def OR_gate (x1,x2):\n",
        "    weight=np.array([2,2])\n",
        "    bias=-1\n",
        "    x=np.array([x1,x2])\n",
        "    sum=np.dot(weight,x) + bias\n",
        "    return 0 if sum <=0 else 1"
      ],
      "metadata": {
        "id": "tpYl-jf-5RtZ"
      },
      "execution_count": null,
      "outputs": []
    },
    {
      "cell_type": "code",
      "source": [
        "for x1,x2 in [(0,0),(0,1),(1,0),(1,1)]:\n",
        "    print(OR_gate(x1,x2))"
      ],
      "metadata": {
        "id": "IWl-vxc35gAK"
      },
      "execution_count": null,
      "outputs": []
    },
    {
      "cell_type": "markdown",
      "source": [
        "NAND Gate"
      ],
      "metadata": {
        "id": "l4GK7IAZiXma"
      }
    },
    {
      "cell_type": "code",
      "source": [
        "def NAND_gate (x1,x2):\n",
        "    weight=np.array([-2,-2])\n",
        "    bias=3\n",
        "    x=np.array([x1,x2])\n",
        "    sum=np.dot(weight,x) + bias\n",
        "    return 0 if sum <=0 else 1"
      ],
      "metadata": {
        "id": "P8ojn6CU55Z9"
      },
      "execution_count": null,
      "outputs": []
    },
    {
      "cell_type": "code",
      "source": [
        "for x1,x2 in [(0,0),(0,1),(1,0),(1,1)]:\n",
        "    print(NAND_gate(x1,x2))"
      ],
      "metadata": {
        "id": "oNK7ChAi5-HR"
      },
      "execution_count": null,
      "outputs": []
    },
    {
      "cell_type": "code",
      "source": [
        ""
      ],
      "metadata": {
        "id": "RbI5gTKc5_3Z"
      },
      "execution_count": null,
      "outputs": []
    }
  ]
}